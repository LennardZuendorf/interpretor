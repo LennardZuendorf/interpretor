{
 "cells":[
  {
   "cell_type":"markdown",
   "source":[
    "# "
   ],
   "attachments":{
    
   },
   "metadata":{
    "datalore":{
     "node_id":"EQMdzALeGQvqkB7kP4JpRk",
     "type":"MD",
     "hide_input_from_viewers":true,
     "hide_output_from_viewers":true
    }
   }
  },
  {
   "cell_type":"markdown",
   "source":[
    "# OmniBERT model for hate speech detection\/text classification\n",
    "\n",
    "### Input Text Below"
   ],
   "attachments":{
    
   },
   "metadata":{
    "datalore":{
     "node_id":"WqQ3TOX0p1aufwOTSkNLPH",
     "type":"MD",
     "hide_input_from_viewers":true,
     "hide_output_from_viewers":true
    }
   }
  },
  {
   "cell_type":"code",
   "source":[
    "input_text = \"value\""
   ],
   "execution_count":1,
   "outputs":[
    
   ],
   "metadata":{
    "datalore":{
     "node_id":"kh9cpNpJTn8uCyG1Nzx4i7",
     "type":"CONTROL",
     "hide_input_from_viewers":true,
     "hide_output_from_viewers":true,
     "controls_state":[
      {
       "type":"INPUT",
       "label":"Input Hate",
       "variable":"input_text",
       "value":"value",
       "multiline":false
      }
     ]
    }
   }
  },
  {
   "cell_type":"markdown",
   "source":[
    "## Code for Text Classification with BERT from Huggingface\n",
    "Using Transformers, Datasets, Evaluate and Accelerate from Huggingface"
   ],
   "attachments":{
    
   },
   "metadata":{
    "datalore":{
     "node_id":"8VtndBBTclgvxa1WwP69q2",
     "type":"MD",
     "hide_input_from_viewers":true,
     "hide_output_from_viewers":true
    }
   }
  },
  {
   "cell_type":"code",
   "source":[
    "from huggingface_hub import notebook_login\n",
    "\n",
    "notebook_login()"
   ],
   "execution_count":1,
   "outputs":[
    {
     "data":{
      "application\/vnd.jupyter.widget-view+json":{
       "version_major":2,
       "version_minor":0,
       "model_id":"5ac9211c414d4bc5967d5736783c031e"
      }
     },
     "metadata":{
      "application\/vnd.jupyter.widget-view+json":{
       "datalore":{
        "widget_id":"NrDfz6Xc6gGQAQ8L3U3rJJ"
       }
      }
     },
     "output_type":"display_data"
    }
   ],
   "metadata":{
    "datalore":{
     "node_id":"NmJ5408MHGW0Aspq5a8YEh",
     "type":"CODE",
     "hide_input_from_viewers":true,
     "hide_output_from_viewers":true
    }
   }
  },
  {
   "cell_type":"code",
   "source":[
    "\n"
   ],
   "execution_count":22,
   "outputs":[
    {
     "name":"stdout",
     "text":[
      "DatasetDict({\n",
      "    train: Dataset({\n",
      "        features: ['Unnamed: 0', 'acl.id', 'X1', 'text', 'label', 'type', 'target', 'level', 'split', 'round.base', 'annotator', 'round', 'acl.id.matched'],\n",
      "        num_rows: 82399\n",
      "    })\n",
      "})\n"
     ],
     "output_type":"stream"
    },
    {
     "name":"stderr",
     "text":[
      "Found cached dataset csv (\/home\/datalore\/.cache\/huggingface\/datasets\/LennardZuendorf___csv\/LennardZuendorf--Dynamically-Generated-Hate-Speech-Dataset-efbf30a9d2cd70f9\/0.0.0\/6954658bab30a358235fa864b05cf819af0e179325c740e4bc853bcc7ec513e1)\n"
     ],
     "output_type":"stream"
    },
    {
     "data":{
      "application\/vnd.jupyter.widget-view+json":{
       "version_major":2,
       "version_minor":0,
       "model_id":"bea1e822219a4f9abad40f703ecda47c"
      }
     },
     "metadata":{
      "application\/vnd.jupyter.widget-view+json":{
       "datalore":{
        "widget_id":"IiCH12w2bz6BChNKYsWt8I"
       }
      }
     },
     "output_type":"display_data"
    }
   ],
   "metadata":{
    "datalore":{
     "node_id":"A0Y3xCeGoPDU4yerm8tauA",
     "type":"CODE",
     "hide_input_from_viewers":true,
     "hide_output_from_viewers":true
    }
   }
  },
  {
   "cell_type":"code",
   "source":[
    "from transformers import AutoTokenizer\n",
    "from transformers import DataCollatorWithPadding\n",
    "\n",
    "tokenizer = AutoTokenizer.from_pretrained(\"distilbert-base-uncased\")\n",
    "\n",
    "def preprocess_function(examples):\n",
    "    return tokenizer(examples[\"text\"], truncation=True)\n",
    "\n",
    "tonkenized_data = dataset.map(preprocess_function, batched=True)\n",
    "data_collator = DataCollatorWithPadding(tokenizer=tokenizer)"
   ],
   "execution_count":null,
   "outputs":[
    
   ],
   "metadata":{
    "datalore":{
     "node_id":"X2saT8lLKPRO7wuqnq03TE",
     "type":"CODE",
     "hide_input_from_viewers":true,
     "hide_output_from_viewers":true
    }
   }
  },
  {
   "cell_type":"code",
   "source":[
    "import evaluate\n",
    "import numpy as np\n",
    "\n",
    "accuracy = evaluate.load(\"accuracy\")\n",
    "\n",
    "def compute_metrics(eval_pred):\n",
    "    predictions, labels = eval_pred\n",
    "    predictions = np.argmax(predictions, axis=1)\n",
    "    return accuracy.compute(predictions=predictions, references=labels)"
   ],
   "execution_count":null,
   "outputs":[
    
   ],
   "metadata":{
    "datalore":{
     "node_id":"zNThQPMUCl2dV0IBDaRwpn",
     "type":"CODE",
     "hide_input_from_viewers":true,
     "hide_output_from_viewers":true
    }
   }
  },
  {
   "cell_type":"code",
   "source":[
    "from transformers import AutoModelForSequenceClassification, TrainingArguments, Trainer\n",
    "\n",
    "id2label = {0: \"nothate\", 1: \"hate\"}\n",
    "label2id = {\"nothate\": 0, \"hate\": 1}\n",
    "\n",
    "model = AutoModelForSequenceClassification.from_pretrained(\n",
    "    \"distilbert-base-uncased\", num_labels=2, id2label=id2label, label2id=label2id\n",
    ")\n",
    "\n",
    "training_args = TrainingArguments(\n",
    "    output_dir=\"my_awesome_model\",\n",
    "    learning_rate=2e-5,\n",
    "    per_device_train_batch_size=16,\n",
    "    per_device_eval_batch_size=16,\n",
    "    num_train_epochs=2,\n",
    "    weight_decay=0.01,\n",
    "    evaluation_strategy=\"epoch\",\n",
    "    save_strategy=\"epoch\",\n",
    "    load_best_model_at_end=True,\n",
    "    push_to_hub=False,\n",
    ")\n",
    "\n",
    "trainer = Trainer(\n",
    "    model=model,\n",
    "    args=training_args,\n",
    "    train_dataset=tokenized_data[\"train\"],\n",
    "    eval_dataset=tokenized_data[\"test\"],\n",
    "    tokenizer=tokenizer,\n",
    "    data_collator=data_collator,\n",
    "    compute_metrics=compute_metrics,\n",
    ")"
   ],
   "execution_count":null,
   "outputs":[
    
   ],
   "metadata":{
    "datalore":{
     "node_id":"Le5rzY7L7jGAhIAmjUQso7",
     "type":"CODE",
     "hide_input_from_viewers":true,
     "hide_output_from_viewers":true
    }
   }
  },
  {
   "cell_type":"code",
   "source":[
    "trainer.train()"
   ],
   "execution_count":null,
   "outputs":[
    
   ],
   "metadata":{
    "datalore":{
     "node_id":"rm4fQpoiAAgRBdUctfqWpE",
     "type":"CODE",
     "hide_input_from_viewers":true,
     "hide_output_from_viewers":true
    }
   }
  },
  {
   "cell_type":"code",
   "source":[
    "from transformers import pipeline\n",
    "\n",
    "classifier = pipeline(\"sentiment-analysis\", model=\"stevhliu\/my_awesome_model\")\n",
    "classifier(input_text)"
   ],
   "execution_count":null,
   "outputs":[
    
   ],
   "metadata":{
    "datalore":{
     "node_id":"qvBeWXRE4eH2FcyTPQ8gb7",
     "type":"CODE",
     "hide_input_from_viewers":true,
     "hide_output_from_viewers":true
    }
   }
  },
  {
   "cell_type":"code",
   "source":[
    
   ],
   "execution_count":null,
   "outputs":[
    
   ],
   "metadata":{
    "datalore":{
     "node_id":"2mWWPUunMgKLYfoApHitiv",
     "type":"CODE",
     "hide_input_from_viewers":true,
     "hide_output_from_viewers":true
    }
   }
  }
 ],
 "metadata":{
  "widgets":{
   "application\/vnd.jupyter.widget-state+json":{
    "version_major":2,
    "version_minor":0,
    "state":{
     "dfa26a2458f74786a3869164cec647b9":{
      "model_name":"LayoutModel",
      "model_module":"@jupyter-widgets\/base",
      "model_module_version":"1.2.0",
      "state":{
       
      }
     },
     "b33ad84f31ac493985fdf9d57398bf33":{
      "model_name":"DescriptionStyleModel",
      "model_module":"@jupyter-widgets\/controls",
      "model_module_version":"1.5.0",
      "state":{
       "description_width":""
      }
     },
     "0e547b4bf19e4cc19323099d351e65bd":{
      "model_name":"LabelModel",
      "model_module":"@jupyter-widgets\/controls",
      "model_module_version":"1.5.0",
      "state":{
       "layout":"IPY_MODEL_dfa26a2458f74786a3869164cec647b9",
       "style":"IPY_MODEL_b33ad84f31ac493985fdf9d57398bf33",
       "value":"Token is valid."
      }
     },
     "d797191455cf496bbb4fe948fafb9fa5":{
      "model_name":"LayoutModel",
      "model_module":"@jupyter-widgets\/base",
      "model_module_version":"1.2.0",
      "state":{
       
      }
     },
     "f45cc4d8fb2f41f59fb635132b5ac2b5":{
      "model_name":"DescriptionStyleModel",
      "model_module":"@jupyter-widgets\/controls",
      "model_module_version":"1.5.0",
      "state":{
       "description_width":""
      }
     },
     "0e4e735b388745ebacecd87570d6c5ad":{
      "model_name":"LabelModel",
      "model_module":"@jupyter-widgets\/controls",
      "model_module_version":"1.5.0",
      "state":{
       "layout":"IPY_MODEL_d797191455cf496bbb4fe948fafb9fa5",
       "style":"IPY_MODEL_f45cc4d8fb2f41f59fb635132b5ac2b5",
       "value":"\u001b[1m\u001b[31mCannot authenticate through git-credential as no helper is defined on your machine."
      }
     },
     "25e7c100d047424db8de85c657487ae2":{
      "model_name":"LayoutModel",
      "model_module":"@jupyter-widgets\/base",
      "model_module_version":"1.2.0",
      "state":{
       
      }
     },
     "bd27b27eb5534ffa8ebfb5908a9c501d":{
      "model_name":"DescriptionStyleModel",
      "model_module":"@jupyter-widgets\/controls",
      "model_module_version":"1.5.0",
      "state":{
       "description_width":""
      }
     },
     "0cec402077e44a78ab09cad97bc8a261":{
      "model_name":"LabelModel",
      "model_module":"@jupyter-widgets\/controls",
      "model_module_version":"1.5.0",
      "state":{
       "layout":"IPY_MODEL_25e7c100d047424db8de85c657487ae2",
       "style":"IPY_MODEL_bd27b27eb5534ffa8ebfb5908a9c501d",
       "value":"You might have to re-authenticate when pushing to the Hugging Face Hub."
      }
     },
     "9c0980797143442c98c7abf2974e8688":{
      "model_name":"LayoutModel",
      "model_module":"@jupyter-widgets\/base",
      "model_module_version":"1.2.0",
      "state":{
       
      }
     },
     "57dc5fd93eb84fa68303acc4e1743a28":{
      "model_name":"DescriptionStyleModel",
      "model_module":"@jupyter-widgets\/controls",
      "model_module_version":"1.5.0",
      "state":{
       "description_width":""
      }
     },
     "b155f4a4d5b64ef492f3f96935f5ea6a":{
      "model_name":"LabelModel",
      "model_module":"@jupyter-widgets\/controls",
      "model_module_version":"1.5.0",
      "state":{
       "layout":"IPY_MODEL_9c0980797143442c98c7abf2974e8688",
       "style":"IPY_MODEL_57dc5fd93eb84fa68303acc4e1743a28",
       "value":"Run the following command in your terminal in case you want to set the 'store' credential helper as default."
      }
     },
     "94eefe2c85824e65bdc9622e9f7ecadc":{
      "model_name":"LayoutModel",
      "model_module":"@jupyter-widgets\/base",
      "model_module_version":"1.2.0",
      "state":{
       
      }
     },
     "167dbc1bf2d7440da8a910f90c725afd":{
      "model_name":"DescriptionStyleModel",
      "model_module":"@jupyter-widgets\/controls",
      "model_module_version":"1.5.0",
      "state":{
       "description_width":""
      }
     },
     "fc7f2e19ec8e4f29af7c6d60cc3acdea":{
      "model_name":"LabelModel",
      "model_module":"@jupyter-widgets\/controls",
      "model_module_version":"1.5.0",
      "state":{
       "layout":"IPY_MODEL_94eefe2c85824e65bdc9622e9f7ecadc",
       "style":"IPY_MODEL_167dbc1bf2d7440da8a910f90c725afd",
       "value":"git config --global credential.helper store"
      }
     },
     "17b66a1a176b44998d4d1e08bd954314":{
      "model_name":"LayoutModel",
      "model_module":"@jupyter-widgets\/base",
      "model_module_version":"1.2.0",
      "state":{
       
      }
     },
     "cee04254e8dc498587671ee549173a61":{
      "model_name":"DescriptionStyleModel",
      "model_module":"@jupyter-widgets\/controls",
      "model_module_version":"1.5.0",
      "state":{
       "description_width":""
      }
     },
     "3c3ade112af441eb8ffd4fe630f58e23":{
      "model_name":"LabelModel",
      "model_module":"@jupyter-widgets\/controls",
      "model_module_version":"1.5.0",
      "state":{
       "layout":"IPY_MODEL_17b66a1a176b44998d4d1e08bd954314",
       "style":"IPY_MODEL_cee04254e8dc498587671ee549173a61",
       "value":"Read https:\/\/git-scm.com\/book\/en\/v2\/Git-Tools-Credential-Storage for more details.\u001b[0m"
      }
     },
     "5d3f1c92d4fb4d8bb2b09102ecaef99c":{
      "model_name":"LayoutModel",
      "model_module":"@jupyter-widgets\/base",
      "model_module_version":"1.2.0",
      "state":{
       
      }
     },
     "dfd14c057fa1441196812ca671c0d3c4":{
      "model_name":"DescriptionStyleModel",
      "model_module":"@jupyter-widgets\/controls",
      "model_module_version":"1.5.0",
      "state":{
       "description_width":""
      }
     },
     "6338a6f819f74fa5ae3dee07145addcb":{
      "model_name":"LabelModel",
      "model_module":"@jupyter-widgets\/controls",
      "model_module_version":"1.5.0",
      "state":{
       "layout":"IPY_MODEL_5d3f1c92d4fb4d8bb2b09102ecaef99c",
       "style":"IPY_MODEL_dfd14c057fa1441196812ca671c0d3c4",
       "value":"Token has not been saved to git credential helper."
      }
     },
     "b89e476b08d3466bbaf0c8452869330b":{
      "model_name":"LayoutModel",
      "model_module":"@jupyter-widgets\/base",
      "model_module_version":"1.2.0",
      "state":{
       
      }
     },
     "a7d69f84bd654cab8cf5995a316a98b1":{
      "model_name":"DescriptionStyleModel",
      "model_module":"@jupyter-widgets\/controls",
      "model_module_version":"1.5.0",
      "state":{
       "description_width":""
      }
     },
     "57addb41f42f466cb9ba65735a8c1eef":{
      "model_name":"LabelModel",
      "model_module":"@jupyter-widgets\/controls",
      "model_module_version":"1.5.0",
      "state":{
       "layout":"IPY_MODEL_b89e476b08d3466bbaf0c8452869330b",
       "style":"IPY_MODEL_a7d69f84bd654cab8cf5995a316a98b1",
       "value":"Your token has been saved to \/home\/datalore\/.cache\/huggingface\/token"
      }
     },
     "fbce4205d1614a3d85dd2af56a26ab35":{
      "model_name":"LayoutModel",
      "model_module":"@jupyter-widgets\/base",
      "model_module_version":"1.2.0",
      "state":{
       
      }
     },
     "c3bfef513d394a8087ea7e704a26aabe":{
      "model_name":"DescriptionStyleModel",
      "model_module":"@jupyter-widgets\/controls",
      "model_module_version":"1.5.0",
      "state":{
       "description_width":""
      }
     },
     "3acb44bf483b4974ae439d434c1f3678":{
      "model_name":"LabelModel",
      "model_module":"@jupyter-widgets\/controls",
      "model_module_version":"1.5.0",
      "state":{
       "layout":"IPY_MODEL_fbce4205d1614a3d85dd2af56a26ab35",
       "style":"IPY_MODEL_c3bfef513d394a8087ea7e704a26aabe",
       "value":"Login successful"
      }
     },
     "7c73a87abe91431c86b4a356b400768b":{
      "model_name":"LayoutModel",
      "model_module":"@jupyter-widgets\/base",
      "model_module_version":"1.2.0",
      "state":{
       "align_items":"center",
       "display":"flex",
       "flex_flow":"column",
       "width":"50%"
      }
     },
     "5ac9211c414d4bc5967d5736783c031e":{
      "model_name":"VBoxModel",
      "model_module":"@jupyter-widgets\/controls",
      "model_module_version":"1.5.0",
      "state":{
       "children":[
        "IPY_MODEL_0e547b4bf19e4cc19323099d351e65bd",
        "IPY_MODEL_0e4e735b388745ebacecd87570d6c5ad",
        "IPY_MODEL_0cec402077e44a78ab09cad97bc8a261",
        "IPY_MODEL_b155f4a4d5b64ef492f3f96935f5ea6a",
        "IPY_MODEL_fc7f2e19ec8e4f29af7c6d60cc3acdea",
        "IPY_MODEL_3c3ade112af441eb8ffd4fe630f58e23",
        "IPY_MODEL_6338a6f819f74fa5ae3dee07145addcb",
        "IPY_MODEL_57addb41f42f466cb9ba65735a8c1eef",
        "IPY_MODEL_3acb44bf483b4974ae439d434c1f3678"
       ],
       "layout":"IPY_MODEL_7c73a87abe91431c86b4a356b400768b"
      }
     },
     "8a6ac6ed7b0841b1ab36a17c1f700553":{
      "model_name":"LayoutModel",
      "model_module":"@jupyter-widgets\/base",
      "model_module_version":"1.2.0",
      "state":{
       
      }
     },
     "abfc9e9d1cf34cad8a3ad59b154711a6":{
      "model_name":"DescriptionStyleModel",
      "model_module":"@jupyter-widgets\/controls",
      "model_module_version":"1.5.0",
      "state":{
       "description_width":""
      }
     },
     "a12ea50da74b45d78b57bbb007fd1df0":{
      "model_name":"HTMLModel",
      "model_module":"@jupyter-widgets\/controls",
      "model_module_version":"1.5.0",
      "state":{
       "layout":"IPY_MODEL_8a6ac6ed7b0841b1ab36a17c1f700553",
       "style":"IPY_MODEL_abfc9e9d1cf34cad8a3ad59b154711a6",
       "value":"100%"
      }
     },
     "df378e9881ed411aa74ddd460fc923bf":{
      "model_name":"LayoutModel",
      "model_module":"@jupyter-widgets\/base",
      "model_module_version":"1.2.0",
      "state":{
       
      }
     },
     "e3473f18eeba479594cd2706285d6472":{
      "model_name":"ProgressStyleModel",
      "model_module":"@jupyter-widgets\/controls",
      "model_module_version":"1.5.0",
      "state":{
       "description_width":""
      }
     },
     "fffacbb00fc84ecf9d888d9288c9fa6e":{
      "model_name":"FloatProgressModel",
      "model_module":"@jupyter-widgets\/controls",
      "model_module_version":"1.5.0",
      "state":{
       "bar_style":"success",
       "layout":"IPY_MODEL_df378e9881ed411aa74ddd460fc923bf",
       "max":1,
       "style":"IPY_MODEL_e3473f18eeba479594cd2706285d6472",
       "value":1
      }
     },
     "4f0e564ff17c4bd8a9de0d138134e253":{
      "model_name":"LayoutModel",
      "model_module":"@jupyter-widgets\/base",
      "model_module_version":"1.2.0",
      "state":{
       
      }
     },
     "e87b3f4fba994b8a97efb8097281969d":{
      "model_name":"DescriptionStyleModel",
      "model_module":"@jupyter-widgets\/controls",
      "model_module_version":"1.5.0",
      "state":{
       "description_width":""
      }
     },
     "320896d401e24715bcef83e5e2f27aa0":{
      "model_name":"HTMLModel",
      "model_module":"@jupyter-widgets\/controls",
      "model_module_version":"1.5.0",
      "state":{
       "layout":"IPY_MODEL_4f0e564ff17c4bd8a9de0d138134e253",
       "style":"IPY_MODEL_e87b3f4fba994b8a97efb8097281969d",
       "value":" 1\/1 [00:00&lt;00:00, 56.75it\/s]"
      }
     },
     "8d09f31df58c4d3b9b210ec1b652e28f":{
      "model_name":"LayoutModel",
      "model_module":"@jupyter-widgets\/base",
      "model_module_version":"1.2.0",
      "state":{
       
      }
     },
     "bea1e822219a4f9abad40f703ecda47c":{
      "model_name":"HBoxModel",
      "model_module":"@jupyter-widgets\/controls",
      "model_module_version":"1.5.0",
      "state":{
       "children":[
        "IPY_MODEL_a12ea50da74b45d78b57bbb007fd1df0",
        "IPY_MODEL_fffacbb00fc84ecf9d888d9288c9fa6e",
        "IPY_MODEL_320896d401e24715bcef83e5e2f27aa0"
       ],
       "layout":"IPY_MODEL_8d09f31df58c4d3b9b210ec1b652e28f"
      }
     }
    }
   }
  },
  "kernelspec":{
   "display_name":"Python",
   "language":"python",
   "name":"python"
  },
  "datalore":{
   "computation_mode":"JUPYTER",
   "package_manager":"pip",
   "base_environment":"default",
   "packages":[
    {
     "name":"datasets",
     "version":"2.12.0",
     "source":"PIP"
    },
    {
     "name":"evaluate",
     "version":"0.4.0",
     "source":"PIP"
    },
    {
     "name":"interpretor-model",
     "version":"building",
     "url":"https:\/\/github.com\/LennardZuendorf\/interpretor-model@building",
     "source":"GIT"
    }
   ],
   "report_row_ids":[
    
   ],
   "version":3
  }
 },
 "nbformat":4,
 "nbformat_minor":4
}